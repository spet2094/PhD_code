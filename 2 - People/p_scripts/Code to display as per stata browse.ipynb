{
 "cells": [
  {
   "cell_type": "code",
   "execution_count": null,
   "id": "surprising-generation",
   "metadata": {},
   "outputs": [],
   "source": [
    "#code to display the dataframe in a separate window \n",
    "\n",
    "import tkinter as tk\n",
    "from tkinter import ttk\n",
    "import pandas as pd\n",
    "\n",
    "def display_dataframe_in_window(dataframe):\n",
    "    root = tk.Tk()\n",
    "    root.title(\"DataFrame Viewer\")\n",
    "\n",
    "    tree = ttk.Treeview(root)\n",
    "    tree[\"columns\"] = tuple(dataframe.columns)\n",
    "    tree[\"show\"] = \"headings\"\n",
    "\n",
    "    for col in dataframe.columns:\n",
    "        tree.heading(col, text=col)\n",
    "\n",
    "    for index, row in dataframe.iterrows():\n",
    "        tree.insert(\"\", \"end\", values=tuple(row))\n",
    "\n",
    "    tree.pack(expand=True, fill=\"both\")\n",
    "\n",
    "    root.mainloop()\n",
    "\n",
    "# Assuming df is your DataFrame\n",
    "display_dataframe_in_window(df)"
   ]
  }
 ],
 "metadata": {
  "kernelspec": {
   "display_name": "Python 3",
   "language": "python",
   "name": "python3"
  },
  "language_info": {
   "codemirror_mode": {
    "name": "ipython",
    "version": 3
   },
   "file_extension": ".py",
   "mimetype": "text/x-python",
   "name": "python",
   "nbconvert_exporter": "python",
   "pygments_lexer": "ipython3",
   "version": "3.8.5"
  }
 },
 "nbformat": 4,
 "nbformat_minor": 5
}
