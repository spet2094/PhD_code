{
 "cells": [
  {
   "cell_type": "code",
   "execution_count": 2,
   "metadata": {},
   "outputs": [],
   "source": [
    "import pandas as pd\n",
    "import numpy as np"
   ]
  },
  {
   "cell_type": "code",
   "execution_count": 3,
   "metadata": {},
   "outputs": [],
   "source": [
    "# specify file paths\n",
    "path_to_bubble_size_data = \"/Users/sophieayling/Library/CloudStorage/GoogleDrive-sophie2ayling@gmail.com/My Drive/PhD/08_Fieldwork/08_Data/R9_data/excel/to_inform_census_bubbles.xlsx\"\n",
    "path_to_census_data = \"/Users/sophieayling/Library/CloudStorage/OneDrive-UniversityCollegeLondon/GitHub/Disease-Modelling-SSA/data/preprocessed/census/5_perc/ipums_5p_2012_preprocessed.dta\"\n",
    "save_path = \"/Users/sophieayling/Library/CloudStorage/GoogleDrive-sophie2ayling@gmail.com/My Drive/PhD/08_Fieldwork/08_Data/R9_data/model_input/5p_census_w_bubbles.dta\""
   ]
  },
  {
   "cell_type": "code",
   "execution_count": 5,
   "metadata": {},
   "outputs": [
    {
     "data": {
      "text/plain": [
       "<bound method DataFrame.info of                          0      1      2      3      4      5      6     \\\n",
       "work_bubble                                                               \n",
       "student                 0.007  0.000  0.000  0.001  0.000  0.001  0.002   \n",
       "ag_estates              0.325  0.014  0.036  0.047  0.039  0.065  0.063   \n",
       "manu_mining_trades      0.202  0.031  0.076  0.095  0.021  0.102  0.088   \n",
       "police_army             0.090  0.000  0.104  0.179  0.015  0.060  0.104   \n",
       "education               0.068  0.000  0.014  0.023  0.032  0.046  0.009   \n",
       "healthcare_social_work  0.051  0.026  0.090  0.064  0.026  0.077  0.026   \n",
       "service_retail          0.149  0.010  0.042  0.063  0.029  0.097  0.037   \n",
       "informal_petty trade    0.374  0.008  0.041  0.053  0.027  0.085  0.025   \n",
       "subsistence_ag          0.540  0.060  0.090  0.069  0.026  0.064  0.036   \n",
       "unemployed_not_ag       0.637  0.013  0.037  0.049  0.040  0.073  0.041   \n",
       "other                   0.117  0.000  0.018  0.081  0.036  0.081  0.009   \n",
       "transport_sector        0.150  0.012  0.088  0.062  0.000  0.075  0.075   \n",
       "office_worker           0.082  0.000  0.094  0.059  0.059  0.024  0.035   \n",
       "homemaker               0.665  0.008  0.043  0.065  0.028  0.058  0.025   \n",
       "religious               0.250  0.000  0.000  0.000  0.000  0.000  0.250   \n",
       "\n",
       "                         7      8      9     ...   307    308    370    400   \\\n",
       "work_bubble                                  ...                               \n",
       "student                 0.003  0.004  0.001  ...  0.000  0.001  0.000  0.000   \n",
       "ag_estates              0.013  0.027  0.011  ...  0.000  0.000  0.000  0.002   \n",
       "manu_mining_trades      0.017  0.038  0.007  ...  0.000  0.000  0.000  0.000   \n",
       "police_army             0.045  0.015  0.030  ...  0.000  0.000  0.000  0.000   \n",
       "education               0.005  0.009  0.000  ...  0.005  0.005  0.005  0.005   \n",
       "healthcare_social_work  0.000  0.077  0.026  ...  0.000  0.000  0.000  0.000   \n",
       "service_retail          0.016  0.039  0.005  ...  0.000  0.000  0.000  0.000   \n",
       "informal_petty trade    0.011  0.029  0.007  ...  0.000  0.000  0.000  0.000   \n",
       "subsistence_ag          0.007  0.024  0.007  ...  0.000  0.000  0.000  0.000   \n",
       "unemployed_not_ag       0.019  0.023  0.004  ...  0.000  0.000  0.000  0.000   \n",
       "other                   0.018  0.000  0.027  ...  0.000  0.000  0.000  0.000   \n",
       "transport_sector        0.050  0.050  0.012  ...  0.000  0.000  0.000  0.000   \n",
       "office_worker           0.047  0.047  0.024  ...  0.000  0.000  0.000  0.000   \n",
       "homemaker               0.009  0.014  0.008  ...  0.000  0.000  0.000  0.000   \n",
       "religious               0.000  0.000  0.000  ...  0.000  0.000  0.000  0.000   \n",
       "\n",
       "                         500    560   600    800    1000   1400  \n",
       "work_bubble                                                      \n",
       "student                 0.000  0.000   0.0  0.001  0.001  0.000  \n",
       "ag_estates              0.000  0.000   0.0  0.000  0.000  0.000  \n",
       "manu_mining_trades      0.000  0.002   0.0  0.000  0.000  0.000  \n",
       "police_army             0.000  0.000   0.0  0.000  0.000  0.000  \n",
       "education               0.014  0.000   0.0  0.000  0.000  0.005  \n",
       "healthcare_social_work  0.000  0.000   0.0  0.000  0.000  0.000  \n",
       "service_retail          0.000  0.000   0.0  0.000  0.005  0.000  \n",
       "informal_petty trade    0.002  0.000   0.0  0.000  0.001  0.000  \n",
       "subsistence_ag          0.000  0.000   0.0  0.000  0.000  0.000  \n",
       "unemployed_not_ag       0.000  0.000   0.0  0.000  0.000  0.000  \n",
       "other                   0.000  0.000   0.0  0.000  0.000  0.000  \n",
       "transport_sector        0.000  0.000   0.0  0.000  0.000  0.000  \n",
       "office_worker           0.000  0.000   0.0  0.000  0.000  0.000  \n",
       "homemaker               0.000  0.000   0.0  0.000  0.000  0.000  \n",
       "religious               0.000  0.000   0.0  0.000  0.000  0.000  \n",
       "\n",
       "[15 rows x 111 columns]>"
      ]
     },
     "execution_count": 5,
     "metadata": {},
     "output_type": "execute_result"
    }
   ],
   "source": [
    "# load in the bubble size data\n",
    "bubble_size = pd.read_excel(path_to_bubble_size_data, sheet_name='comb_transposed',\n",
    "                            index_col='work_bubble')\n",
    "\n",
    "# convert percentages into probabilities\n",
    "bubble_size = bubble_size / 100\n",
    "#replace all NaN with zeros\n",
    "bubble_size.fillna(0, inplace=True)\n",
    "# load in the census data\n",
    "census = pd.read_stata(path_to_census_data)\n",
    "bubble_size.info"
   ]
  },
  {
   "cell_type": "code",
   "execution_count": 15,
   "metadata": {},
   "outputs": [],
   "source": [
    "# create a new column for workplace bubble ids, fill the column with 'none' as default\n",
    "census['work_bubble_id'] = [\"none\"] * len(census)\n",
    "# get a list of occupations that appear in the census\n",
    "occs = census.occ4.unique()\n",
    "# get a list of locations that appear in the census\n",
    "locations = census.geo1_zw2012.unique()"
   ]
  },
  {
   "cell_type": "code",
   "execution_count": 16,
   "metadata": {},
   "outputs": [
    {
     "name": "stdout",
     "output_type": "stream",
     "text": [
      "No existing bubbles to place these people into, reached this part of the code as the bubble size initially selected for education in Matabeleland North was too large. Creating a new bubble for all these people\n",
      "No existing bubbles to place these people into, reached this part of the code as the bubble size initially selected for education in Matabeleland South was too large. Creating a new bubble for all these people\n",
      "No existing bubbles to place these people into, reached this part of the code as the bubble size initially selected for religious in Masvingo was too large. Creating a new bubble for all these people\n",
      "No existing bubbles to place these people into, reached this part of the code as the bubble size initially selected for religious in Harare was too large. Creating a new bubble for all these people\n"
     ]
    }
   ],
   "source": [
    "# loop over the locations and occupations that appear in the census\n",
    "for loc in locations:\n",
    "    for occ in occs:\n",
    "        # filter the census file to get the people in location 'loc' that have occupation 'occ', store this as a new\n",
    "        # dataframe\n",
    "        people_in_loc_with_occ = census.loc[(census['occ4'] == occ) & (census['geo1_zw2012'] == loc)]\n",
    "        # get the initial number of people who meet the above criteria\n",
    "        number_of_people_not_in_bubble = len(people_in_loc_with_occ)\n",
    "        # create a number to assign to the bubble numbers (note this is reset when we look at different\n",
    "        # location/occupation combos\n",
    "        group_id_generator = 1\n",
    "        # use a while loop to create the workplace bubbles, this loop keeps going until the randomly generated\n",
    "        # bubble size is greater than the remaining number of people without an assigned bubble\n",
    "        while number_of_people_not_in_bubble > 0:\n",
    "            bubble_size_for_this = np.random.choice(bubble_size.columns, p=np.divide(bubble_size.loc[occ].values,\n",
    "                                                    sum(bubble_size.loc[occ].values)))\n",
    "\n",
    "            # bubble sizes are self-reported so a bubble size of 0 means they have no co-workers, and have a bubble size\n",
    "            # of one (just themselves) adjust the generated bubble size below\n",
    "            bubble_size_for_this += 1\n",
    "            # if the generated bubble size is greater than the remaining people exit the loop and move on\n",
    "            if bubble_size_for_this > len(people_in_loc_with_occ):\n",
    "                break\n",
    "            # sample from the people in a location based on the bubble size created above\n",
    "            people_in_bubble = people_in_loc_with_occ.sample(n=bubble_size_for_this)\n",
    "            # create the workplace bubble for these people\n",
    "            census.loc[people_in_bubble.index, 'work_bubble_id'] = loc + \"_\" + occ + \"_\" + str(group_id_generator)\n",
    "            # update the group_id number so that the next group will have a different workplace id\n",
    "            group_id_generator += 1\n",
    "            # calculate the number of people who don't have a workplace bubble again\n",
    "            number_of_people_not_in_bubble = number_of_people_not_in_bubble - len(people_in_bubble)\n",
    "            # remove the people we have just assigned a workplace bubble to from the pool of people we are going to\n",
    "            # assign bubbles to\n",
    "            people_in_loc_with_occ = census.loc[(census['occ4'] == occ) & (census['geo1_zw2012'] == loc) &\n",
    "                                                (census['work_bubble_id'] == 'none')]\n",
    "        # randomly assign the remaining people into existing bubbles\n",
    "        straddlers = census.loc[(census['occ4'] == occ) & (census['geo1_zw2012'] == loc) &\n",
    "                                (census['work_bubble_id'] == 'none')]\n",
    "        other_group_ids = census.loc[(census['occ4'] == occ) & (census['geo1_zw2012'] == loc) &\n",
    "                                     (census['work_bubble_id'] != 'none'), 'work_bubble_id'].unique()\n",
    "        for straddler in straddlers.index:\n",
    "            try:\n",
    "                census.loc[straddler, 'work_bubble_id'] = np.random.choice(other_group_ids)\n",
    "            except ValueError:\n",
    "                census.loc[straddlers.index, 'work_bubble_id'] = loc + \"_\" + occ + \"_\" + str(group_id_generator)\n",
    "                print(\"No existing bubbles to place these people into, reached this part of the code as the bubble size\"\n",
    "                      \" initially selected for \" + occ + \" in \" + loc + \" was too large. Creating a new bubble for all \"\n",
    "                      \"these people\")\n",
    "                break"
   ]
  },
  {
   "cell_type": "code",
   "execution_count": null,
   "metadata": {},
   "outputs": [],
   "source": [
    "# similarly generate contacts per person according to a distribution \n"
   ]
  },
  {
   "cell_type": "code",
   "execution_count": 18,
   "metadata": {},
   "outputs": [],
   "source": [
    "census.to_stata(save_path)"
   ]
  },
  {
   "cell_type": "code",
   "execution_count": null,
   "metadata": {},
   "outputs": [],
   "source": []
  }
 ],
 "metadata": {
  "kernelspec": {
   "display_name": "Python 3",
   "language": "python",
   "name": "python3"
  },
  "language_info": {
   "codemirror_mode": {
    "name": "ipython",
    "version": 3
   },
   "file_extension": ".py",
   "mimetype": "text/x-python",
   "name": "python",
   "nbconvert_exporter": "python",
   "pygments_lexer": "ipython3",
   "version": "3.8.19"
  }
 },
 "nbformat": 4,
 "nbformat_minor": 4
}
